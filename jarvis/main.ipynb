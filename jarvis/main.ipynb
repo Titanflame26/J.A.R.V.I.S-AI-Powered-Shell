{
 "cells": [
  {
   "cell_type": "code",
   "execution_count": 2,
   "id": "969e8610",
   "metadata": {},
   "outputs": [
    {
     "name": "stderr",
     "output_type": "stream",
     "text": [
      "d:\\Projects to do\\J.A.R.V.I.S\\jarvis\\lib\\site-packages\\tqdm\\auto.py:21: TqdmWarning: IProgress not found. Please update jupyter and ipywidgets. See https://ipywidgets.readthedocs.io/en/stable/user_install.html\n",
      "  from .autonotebook import tqdm as notebook_tqdm\n"
     ]
    },
    {
     "name": "stdout",
     "output_type": "stream",
     "text": [
      "DatasetDict({\n",
      "    train: Dataset({\n",
      "        features: ['prompt', 'response'],\n",
      "        num_rows: 840\n",
      "    })\n",
      "})\n",
      "{'prompt': 'Move a file called x from the Desktop to the Downloads directory', 'response': 'mv ~/Desktop/x ~/Downloads/'}\n",
      "{'prompt': 'Check the status of the Apache service', 'response': 'sudo systemctl status apache2'}\n"
     ]
    }
   ],
   "source": [
    "from datasets import load_dataset\n",
    "\n",
    "dataset = load_dataset(\"aelhalili/bash-commands-dataset\")\n",
    "print(dataset)\n",
    "print(dataset['train'][0]) # check first record\n",
    "print(dataset['train'][839]) # check last record\n"
   ]
  },
  {
   "cell_type": "code",
   "execution_count": 3,
   "id": "87f879fd",
   "metadata": {},
   "outputs": [
    {
     "name": "stdout",
     "output_type": "stream",
     "text": [
      "[{'input_text': 'Move', 'target_text': 'Move a file called x from the Desktop to the Downloads directory'}, {'input_text': 'Move a', 'target_text': 'Move a file called x from the Desktop to the Downloads directory'}]\n"
     ]
    }
   ],
   "source": [
    "#Preprocessing for Auto-completion\n",
    "\n",
    "def make_autocomplete_pairs(example):\n",
    "    text=example[\"prompt\"]\n",
    "    words=text.split()\n",
    "    pairs=[]\n",
    "    for i in range(1,len(words)):\n",
    "        partial=\" \".join(words[:i])\n",
    "        pairs.append({\"input_text\":partial,\"target_text\":text})\n",
    "\n",
    "    return pairs\n",
    "# Expand dataset \n",
    "from itertools import chain \n",
    "def expand_dataset(dataset): \n",
    "    expanded = list(chain.from_iterable(make_autocomplete_pairs(ex) for ex in dataset)) \n",
    "    return expanded \n",
    "train_data = expand_dataset(dataset[\"train\"]) \n",
    "print(train_data[:2]) "
   ]
  },
  {
   "cell_type": "code",
   "execution_count": 4,
   "id": "9695ec9a",
   "metadata": {},
   "outputs": [],
   "source": [
    "from datasets import Dataset\n",
    "\n",
    "ds = Dataset.from_list(train_data).train_test_split(test_size=0.1, seed=42)\n"
   ]
  },
  {
   "cell_type": "code",
   "execution_count": 5,
   "id": "17f010dc",
   "metadata": {},
   "outputs": [
    {
     "name": "stderr",
     "output_type": "stream",
     "text": [
      "Map:   0%|          | 0/4678 [00:00<?, ? examples/s]d:\\Projects to do\\J.A.R.V.I.S\\jarvis\\lib\\site-packages\\transformers\\tokenization_utils_base.py:4006: UserWarning: `as_target_tokenizer` is deprecated and will be removed in v5 of Transformers. You can tokenize your labels by using the argument `text_target` of the regular `__call__` method (either in the same call as your input texts if you use the same keyword arguments, or in a separate call.\n",
      "  warnings.warn(\n",
      "Map: 100%|██████████| 4678/4678 [00:00<00:00, 17801.01 examples/s]\n",
      "Map: 100%|██████████| 520/520 [00:00<00:00, 34950.29 examples/s]\n"
     ]
    }
   ],
   "source": [
    "from transformers import AutoTokenizer\n",
    "\n",
    "model_name = \"facebook/bart-base\"   # you can try bart-large later\n",
    "tokenizer = AutoTokenizer.from_pretrained(model_name)\n",
    "\n",
    "max_src_len = 64\n",
    "max_tgt_len = 128\n",
    "\n",
    "def preprocess(batch):\n",
    "    inputs = tokenizer(\n",
    "        batch[\"input_text\"],\n",
    "        max_length=max_src_len,\n",
    "        truncation=True\n",
    "    )\n",
    "    with tokenizer.as_target_tokenizer():\n",
    "        labels = tokenizer(\n",
    "            batch[\"target_text\"],\n",
    "            max_length=max_tgt_len,\n",
    "            truncation=True\n",
    "        )\n",
    "    inputs[\"labels\"] = labels[\"input_ids\"]\n",
    "    return inputs\n",
    "\n",
    "tokenized = ds.map(preprocess, batched=True, remove_columns=ds[\"train\"].column_names)\n"
   ]
  },
  {
   "cell_type": "code",
   "execution_count": 6,
   "id": "e6b538f9",
   "metadata": {},
   "outputs": [
    {
     "name": "stderr",
     "output_type": "stream",
     "text": [
      "C:\\Users\\bhara\\AppData\\Local\\Temp\\ipykernel_27912\\239201692.py:30: FutureWarning: `tokenizer` is deprecated and will be removed in version 5.0.0 for `Trainer.__init__`. Use `processing_class` instead.\n",
      "  trainer = Trainer(\n"
     ]
    },
    {
     "data": {
      "text/html": [
       "\n",
       "    <div>\n",
       "      \n",
       "      <progress value='1755' max='1755' style='width:300px; height:20px; vertical-align: middle;'></progress>\n",
       "      [1755/1755 03:27, Epoch 3/3]\n",
       "    </div>\n",
       "    <table border=\"1\" class=\"dataframe\">\n",
       "  <thead>\n",
       " <tr style=\"text-align: left;\">\n",
       "      <th>Step</th>\n",
       "      <th>Training Loss</th>\n",
       "      <th>Validation Loss</th>\n",
       "    </tr>\n",
       "  </thead>\n",
       "  <tbody>\n",
       "    <tr>\n",
       "      <td>500</td>\n",
       "      <td>0.594800</td>\n",
       "      <td>0.415658</td>\n",
       "    </tr>\n",
       "    <tr>\n",
       "      <td>1000</td>\n",
       "      <td>0.377400</td>\n",
       "      <td>0.291750</td>\n",
       "    </tr>\n",
       "    <tr>\n",
       "      <td>1500</td>\n",
       "      <td>0.274600</td>\n",
       "      <td>0.235346</td>\n",
       "    </tr>\n",
       "  </tbody>\n",
       "</table><p>"
      ],
      "text/plain": [
       "<IPython.core.display.HTML object>"
      ]
     },
     "metadata": {},
     "output_type": "display_data"
    },
    {
     "name": "stderr",
     "output_type": "stream",
     "text": [
      "d:\\Projects to do\\J.A.R.V.I.S\\jarvis\\lib\\site-packages\\transformers\\modeling_utils.py:3917: UserWarning: Moving the following attributes in the config to the generation config: {'early_stopping': True, 'num_beams': 4, 'no_repeat_ngram_size': 3, 'forced_bos_token_id': 0}. You are seeing this warning because you've set generation parameters in the model config, as opposed to in the generation config.\n",
      "  warnings.warn(\n"
     ]
    },
    {
     "data": {
      "text/plain": [
       "TrainOutput(global_step=1755, training_loss=0.5296675739125308, metrics={'train_runtime': 207.9591, 'train_samples_per_second': 67.484, 'train_steps_per_second': 8.439, 'total_flos': 104354251223040.0, 'train_loss': 0.5296675739125308, 'epoch': 3.0})"
      ]
     },
     "execution_count": 6,
     "metadata": {},
     "output_type": "execute_result"
    }
   ],
   "source": [
    "import torch\n",
    "from transformers import (\n",
    "    AutoTokenizer,\n",
    "    AutoModelForSeq2SeqLM,\n",
    "    DataCollatorForSeq2Seq,\n",
    "    Trainer,\n",
    "    TrainingArguments\n",
    ")\n",
    "\n",
    "\n",
    "model = AutoModelForSeq2SeqLM.from_pretrained(model_name)\n",
    "data_collator = DataCollatorForSeq2Seq(tokenizer, model=model)\n",
    "\n",
    "args = TrainingArguments(\n",
    "    output_dir=\"bart-prompt-autocomplete\",\n",
    "    per_device_train_batch_size=8,\n",
    "    per_device_eval_batch_size=8,\n",
    "    learning_rate=5e-5,\n",
    "    num_train_epochs=3,\n",
    "    eval_strategy=\"steps\",   # ✅ required since you use eval_steps\n",
    "    eval_steps=500,\n",
    "    save_steps=500,\n",
    "    logging_steps=100,    # ✅ available in v4.55.2\n",
    "    fp16=torch.cuda.is_available(),\n",
    "    save_total_limit=2,\n",
    "    report_to=\"none\"\n",
    ")\n",
    "\n",
    "\n",
    "trainer = Trainer(\n",
    "    model=model,\n",
    "    args=args,\n",
    "    train_dataset=tokenized[\"train\"],\n",
    "    eval_dataset=tokenized[\"test\"],\n",
    "    data_collator=data_collator,\n",
    "    tokenizer=tokenizer,\n",
    ")\n",
    "\n",
    "trainer.train()\n"
   ]
  },
  {
   "cell_type": "code",
   "execution_count": 7,
   "id": "fef0c82e",
   "metadata": {},
   "outputs": [
    {
     "data": {
      "text/plain": [
       "('bart_autocomplete_model\\\\tokenizer_config.json',\n",
       " 'bart_autocomplete_model\\\\special_tokens_map.json',\n",
       " 'bart_autocomplete_model\\\\vocab.json',\n",
       " 'bart_autocomplete_model\\\\merges.txt',\n",
       " 'bart_autocomplete_model\\\\added_tokens.json',\n",
       " 'bart_autocomplete_model\\\\tokenizer.json')"
      ]
     },
     "execution_count": 7,
     "metadata": {},
     "output_type": "execute_result"
    }
   ],
   "source": [
    "trainer.save_model(\"bart_autocomplete_model\")\n",
    "tokenizer.save_pretrained(\"bart_autocomplete_model\")\n"
   ]
  },
  {
   "cell_type": "code",
   "execution_count": 9,
   "id": "c90f3076",
   "metadata": {},
   "outputs": [
    {
     "name": "stdout",
     "output_type": "stream",
     "text": [
      "Prediction: list all files in the current directory\n"
     ]
    }
   ],
   "source": [
    "text = \"list all\"   # partial input\n",
    "\n",
    "inputs = tokenizer(text, return_tensors=\"pt\").to(model.device)\n",
    "outputs = model.generate(\n",
    "    **inputs,\n",
    "    max_length=64,\n",
    "    num_beams=5,\n",
    "    early_stopping=True\n",
    ")\n",
    "\n",
    "print(\"Prediction:\", tokenizer.decode(outputs[0], skip_special_tokens=True))\n"
   ]
  },
  {
   "cell_type": "code",
   "execution_count": 10,
   "id": "3e93c92c",
   "metadata": {},
   "outputs": [],
   "source": [
    "from transformers import AutoTokenizer, AutoModelForSeq2SeqLM\n",
    "import torch\n",
    "\n",
    "# Load trained model\n",
    "tokenizer = AutoTokenizer.from_pretrained(\"bart_autocomplete_model\")\n",
    "model = AutoModelForSeq2SeqLM.from_pretrained(\"bart_autocomplete_model\").to(\"cuda\" if torch.cuda.is_available() else \"cpu\")\n",
    "\n",
    "def get_autocomplete_suggestion(prefix: str) -> str:\n",
    "    inputs = tokenizer(prefix, return_tensors=\"pt\").to(model.device)\n",
    "    outputs = model.generate(\n",
    "        **inputs,\n",
    "        max_length=64,\n",
    "        num_beams=5,\n",
    "        early_stopping=True\n",
    "    )\n",
    "    suggestion = tokenizer.decode(outputs[0], skip_special_tokens=True)\n",
    "    return suggestion\n"
   ]
  }
 ],
 "metadata": {
  "kernelspec": {
   "display_name": "jarvis",
   "language": "python",
   "name": "python3"
  },
  "language_info": {
   "codemirror_mode": {
    "name": "ipython",
    "version": 3
   },
   "file_extension": ".py",
   "mimetype": "text/x-python",
   "name": "python",
   "nbconvert_exporter": "python",
   "pygments_lexer": "ipython3",
   "version": "3.10.11"
  }
 },
 "nbformat": 4,
 "nbformat_minor": 5
}
